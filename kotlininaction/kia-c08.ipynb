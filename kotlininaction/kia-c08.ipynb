{
 "cells": [
  {
   "cell_type": "markdown",
   "metadata": {},
   "source": [
    "# Chapter 8. Higher-order functions\n",
    "\n",
    "- Function types\n",
    "- Higher-order functions (HOFs) and their use for structuring code\n",
    "\t- just functions that take in other functions as params, or returns another function \n",
    "- Inline functions \n",
    "\t- remove the performance costs of lambdas\n",
    "- Non-local returns and labels\n",
    "- Anonymous functions (i.e. lambdas!)"
   ]
  },
  {
   "cell_type": "code",
   "execution_count": 10,
   "metadata": {},
   "outputs": [
    {
     "name": "stdout",
     "output_type": "stream",
     "text": [
      "3\n",
      "null\n",
      "anonymous lambda called with: 2, 3\n"
     ]
    }
   ],
   "source": [
    "// a regular function type\n",
    "val sum: (Int, Int) -> Int = { x, y -> x + y }\n",
    "\n",
    "// return types can be nullable\n",
    "val maybeNull: (Int, Int) -> Int? = { x, y -> if (x + y < 0) null else x + y }\n",
    "// if the function var itself is nullable, you'll need parentheses around whole thing\n",
    "var funOrNull: ((Int, Int) -> Int)? = null\n",
    "\n",
    "// higher-order-function\n",
    "fun printResult(x: Int, y: Int, fn: (Int, Int) -> Any?) = println(fn.invoke(x, y))\n",
    "\n",
    "printResult(1, 2, sum) \n",
    "printResult(-4, -3, maybeNull)\n",
    "printResult(2, 3) { x, y -> \"anonymous lambda called with: $x, $y\" }"
   ]
  },
  {
   "cell_type": "code",
   "execution_count": null,
   "metadata": {
    "collapsed": true
   },
   "outputs": [],
   "source": []
  },
  {
   "cell_type": "code",
   "execution_count": null,
   "metadata": {
    "collapsed": true
   },
   "outputs": [],
   "source": []
  },
  {
   "cell_type": "code",
   "execution_count": null,
   "metadata": {
    "collapsed": true
   },
   "outputs": [],
   "source": []
  },
  {
   "cell_type": "markdown",
   "metadata": {},
   "source": [
    "### 8.1.2. Calling functions passed as arguments\n",
    "\n"
   ]
  },
  {
   "cell_type": "code",
   "execution_count": null,
   "metadata": {
    "collapsed": true
   },
   "outputs": [],
   "source": []
  },
  {
   "cell_type": "code",
   "execution_count": null,
   "metadata": {
    "collapsed": true
   },
   "outputs": [],
   "source": []
  },
  {
   "cell_type": "code",
   "execution_count": null,
   "metadata": {
    "collapsed": true
   },
   "outputs": [],
   "source": []
  },
  {
   "cell_type": "code",
   "execution_count": null,
   "metadata": {
    "collapsed": true
   },
   "outputs": [],
   "source": []
  }
 ],
 "metadata": {
  "kernelspec": {
   "display_name": "Kotlin",
   "language": "kotlin",
   "name": "kotlin"
  },
  "language_info": {
   "file_extension": "kt",
   "name": "kotlin"
  }
 },
 "nbformat": 4,
 "nbformat_minor": 2
}
