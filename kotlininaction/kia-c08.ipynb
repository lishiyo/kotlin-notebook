{
 "cells": [
  {
   "cell_type": "markdown",
   "metadata": {},
   "source": [
    "# Chapter 8. Higher-order functions\n",
    "\n",
    "- Function types allow you to declare a variable, parameter, or function return value that holds a reference to a function.\n",
    "- Higher-order functions (HOFs) help structure code and remove duplication\n",
    " - functions that take in other functions as arguments or returns them\n",
    " - create them by using a function type as the type of a function parameter or return value\n",
    " - help create reusable, flexible code\n",
    "- Inline functions \n",
    " - remove the performance costs of lambdas by being inserted directly into the code of the calling function upon compilation, so it's as if you wrote it there directly\n",
    "- Non-local returns and labels\n",
    " - lambdas return from enclosing function by default, but can return from anywhere if you use labels\n",
    "- Anonymous functions - alternative syntax to lambdas, return locally\n",
    " - use when you need to write a block of code with multiple exit points"
   ]
  },
  {
   "cell_type": "markdown",
   "metadata": {},
   "source": [
    "## 8.1. DECLARING HIGHER-ORDER FUNCTIONS\n",
    "\n",
    "What is a HOF?\n",
    "- a function that takes another function as an argument or returns one\n",
    "- that function can be represented by lambdas or function references"
   ]
  },
  {
   "cell_type": "markdown",
   "metadata": {},
   "source": [
    "### 8.1.1 How to declare a function\n",
    "\n",
    "- `() -> Unit = { ... }`\n",
    "- `(Int, String) -> Unit = { x, y -> ... } `\n",
    "- `(String, String) -> String?` <- can be nullable"
   ]
  },
  {
   "cell_type": "code",
   "execution_count": 1,
   "metadata": {},
   "outputs": [
    {
     "name": "stdout",
     "output_type": "stream",
     "text": [
      "3\n",
      "null\n",
      "anonymous lambda called with: 2, 3\n"
     ]
    }
   ],
   "source": [
    "// a regular function type\n",
    "val sum: (Int, Int) -> Int = { x, y -> x + y }\n",
    "\n",
    "// return types can be nullable\n",
    "val maybeNull: (Int, Int) -> Int? = { x, y -> if (x + y < 0) null else x + y }\n",
    "\n",
    "// if the function itself is nullable, you'll need parentheses around whole thing\n",
    "var funOrNull: ((Int, Int) -> Int)? = null\n",
    "\n",
    "// higher-order-function\n",
    "fun printResult(x: Int, y: Int, fn: (Int, Int) -> Any?) = println(fn(x, y))\n",
    "\n",
    "printResult(1, 2, sum) \n",
    "printResult(-4, -3, maybeNull)\n",
    "printResult(2, 3) { x, y -> \"anonymous lambda called with: $x, $y\" }"
   ]
  },
  {
   "cell_type": "markdown",
   "metadata": {},
   "source": [
    "### 8.1.2. Calling functions passed as arguments\n",
    "\n",
    "- Same as regular functions"
   ]
  },
  {
   "cell_type": "code",
   "execution_count": 9,
   "metadata": {},
   "outputs": [
    {
     "name": "stdout",
     "output_type": "stream",
     "text": [
      "[cat, four]\n"
     ]
    }
   ],
   "source": [
    "// filter for only strings that match a predicate\n",
    "fun List<String>.filter(predicate: (String) -> Boolean): List<String> {\n",
    "    val filteredList: MutableList<String> = mutableListOf()\n",
    "    for (word in this) {\n",
    "        if (predicate(word)) filteredList.add(word)\n",
    "    }\n",
    "    return filteredList.toList()\n",
    "}\n",
    "\n",
    "println(listOf(\"do\", \"cat\", \"four\").filter { word -> word.length > 2  })"
   ]
  },
  {
   "cell_type": "markdown",
   "metadata": {},
   "source": [
    "### 8.1.3. Using function types from Java\n",
    "\n",
    "Under the hood - a variable of function type is instance of class implementing a FunctionN interface where N = number of arguments:\n",
    "- Function0<R>, Function1<P1, R> etc\n",
    "- Each function has a single `invoke`. \n"
   ]
  },
  {
   "cell_type": "code",
   "execution_count": 22,
   "metadata": {
    "collapsed": true
   },
   "outputs": [],
   "source": [
    "/* Kotlin: Given this function in Kotlin... */\n",
    "fun logIt(fn: (Int) -> Int) { println(fn(42)) }\n",
    "\n",
    "/**\n",
    "* Java (pre-8) - pass in an anonymous function that overrides invoke\n",
    "logIt(new Function<Integer, Integer>() {\n",
    "    @Override\n",
    "    public Integer invoke(Integer number) {\n",
    "        return number + 1;\n",
    "    }\n",
    "}\n",
    "**/\n",
    "\n",
    "/**\n",
    "Note that if your Kotlin function returns Unit, like (String) -> Unit\n",
    "you need to return Unit.INSTANCE in Java, *not* void\n",
    "\n",
    "List<String> strings = listOf(\"42\")\n",
    "CollectionsKt.forEach(strings, { s -> {\n",
    "    println(s)\n",
    "    return Unit.INSTANCE\n",
    "}})\n",
    "**/"
   ]
  },
  {
   "cell_type": "markdown",
   "metadata": {},
   "source": [
    "### 8.1.4. Default and null values for parameters with function types"
   ]
  },
  {
   "cell_type": "code",
   "execution_count": 6,
   "metadata": {},
   "outputs": [
    {
     "name": "stdout",
     "output_type": "stream",
     "text": [
      "CATS, DOGS\n"
     ]
    }
   ],
   "source": [
    "// Approach 1: use a default function for your function params\n",
    "\n",
    "fun <T> Collection<T>.joinToString(\n",
    "    separator:String = \", \",\n",
    "    transform: (T) -> String = { it.toString().toUpperCase() }\n",
    "): String {\n",
    "    val result = StringBuilder()\n",
    "    for ((idx, el) in this.withIndex()) {\n",
    "        if (idx > 0) result.append(separator)\n",
    "        result.append(transform(el))\n",
    "    }\n",
    "    return result.toString()\n",
    "}\n",
    "\n",
    "val letters = listOf(\"cats\", \"dogs\")\n",
    "println(letters.joinToString())"
   ]
  },
  {
   "cell_type": "code",
   "execution_count": 8,
   "metadata": {},
   "outputs": [
    {
     "name": "stdout",
     "output_type": "stream",
     "text": [
      "CATS, DOGS\n"
     ]
    }
   ],
   "source": [
    "// Approach 2: make your function param nullable\n",
    "\n",
    "fun <T> Collection<T>.joinToString(\n",
    "    separator:String = \", \",\n",
    "    transform: ((T) -> String)? = null\n",
    "): String {\n",
    "    val result = StringBuilder()\n",
    "    for ((idx, el) in this.withIndex()) {\n",
    "        if (idx > 0) result.append(separator)\n",
    "        result.append(transform?.invoke(el) ?: el.toString().toUpperCase())\n",
    "    }\n",
    "    return result.toString()\n",
    "}\n",
    "\n",
    "val letters = listOf(\"cats\", \"dogs\")\n",
    "println(letters.joinToString())"
   ]
  },
  {
   "cell_type": "markdown",
   "metadata": {},
   "source": [
    "### 8.1.5. Returning functions from functions\n",
    "\n",
    "Not as common as function params, but cool for currying!\n"
   ]
  },
  {
   "cell_type": "code",
   "execution_count": 2,
   "metadata": {},
   "outputs": [
    {
     "name": "stdout",
     "output_type": "stream",
     "text": [
      "42\n",
      "6\n"
     ]
    }
   ],
   "source": [
    "// simple curry example\n",
    "\n",
    "// a function that returns another function that adds some base num\n",
    "fun addWithBase(base: Int): (Int) -> Int { \n",
    "    return { anotherNum -> (base + anotherNum) }\n",
    "}\n",
    "\n",
    "val addOne = addWithBase(1) \n",
    "println(addOne(41))\n",
    "println(addWithBase(2)(4))"
   ]
  },
  {
   "cell_type": "code",
   "execution_count": 3,
   "metadata": {},
   "outputs": [
    {
     "name": "stdout",
     "output_type": "stream",
     "text": [
      "false\n",
      "true\n",
      "false\n",
      "true\n"
     ]
    }
   ],
   "source": [
    "// Note that in current Kotlin versions, don't need to nest these classes inside the sealed class\n",
    "sealed class Block {\n",
    "    data class TextBlock(val text: String) : Block()\n",
    "    data class ImageBlock(val url: String) : Block()\n",
    "}\n",
    "\n",
    "// each block type has its own \"is valid\" predicate\n",
    "fun <T : Block> getBlockValidator(clazz: Class<T>): (T) -> Boolean {\n",
    "    when(clazz){\n",
    "        Block.TextBlock::class.java -> return { \n",
    "            b: Block -> b is Block.TextBlock && b.text.isNotBlank()\n",
    "        }\n",
    "        Block.ImageBlock::class.java -> return { \n",
    "            b: Block -> b is Block.ImageBlock && b.url.endsWith(\".jpg\")\n",
    "        }\n",
    "        else -> return { b: Block -> false }\n",
    "    }\n",
    "}\n",
    "\n",
    "val TEXT_BLOCK_VALIDATOR = getBlockValidator(Block.TextBlock::class.java)\n",
    "val IMAGE_BLOCK_VALIDATOR = getBlockValidator(Block.ImageBlock::class.java)\n",
    "\n",
    "println(TEXT_BLOCK_VALIDATOR(Block.TextBlock(\"\"))) // false\n",
    "println(TEXT_BLOCK_VALIDATOR(Block.TextBlock(\"coalesce\"))) // true\n",
    "println(IMAGE_BLOCK_VALIDATOR(Block.ImageBlock(\"shook\"))) // false\n",
    "println(IMAGE_BLOCK_VALIDATOR(Block.ImageBlock(\"shook.jpg\"))) // true\n"
   ]
  },
  {
   "cell_type": "markdown",
   "metadata": {
    "collapsed": true
   },
   "source": [
    "### 8.1.6. Removing duplication through lambdas\n",
    "\n",
    "Function types and lambda expressions => reusable code.\n",
    "Strategy pattern - use a general function type as strategy, and pass different lambda expressions as different strategies"
   ]
  },
  {
   "cell_type": "code",
   "execution_count": null,
   "metadata": {
    "collapsed": true
   },
   "outputs": [],
   "source": [
    "enum class PostAction { LIKE, REBLOG, LIGHTBOX, NOTES_CLICK }\n",
    "enum class NavigationState { DASHBOARD, SEARCH, BLOG, UNKNOWN }\n",
    "\n",
    "data class PostEvent(\n",
    "    val action: PostAction,\n",
    "    val screen: NavigationState = NavigationState.UNKNOWN\n",
    ")\n",
    "\n",
    "fun List<PostEvent>.logPostActions(predicate: (PostEvent) -> Boolean) = \n",
    "    filter(predicate).map { \"{it.action} on {it.screen}\" }\n",
    "\n",
    "val postEvents = listOf(\n",
    "    PostEvent(PostAction.LIKE, NavigationState.DASHBOARD),\n",
    "    PostEvent(PostAction.REBLOG, NavigationState.BLOG),\n",
    "    PostEvent(PostAction.NOTES_CLICK),\n",
    "    PostEvent(PostAction.LIGHTBOX),\n",
    "    PostEvent(PostAction.REBLOG, NavigationState.SEARCH)\n",
    ")\n",
    "// filter for events on blog screen\n",
    "val blogScreenEvents = postEvents.logPostActions {\n",
    "    it.screen == NavigationState.BLOG\n",
    "}\n",
    "// filter for reblog events on any scren\n",
    "val reblogEvents = postEvents.logPostActions {\n",
    "    it.action == PostAction.REBLOG\n",
    "}\n",
    "println(unknownScreenEvents)\n",
    "println(reblogEvents)"
   ]
  },
  {
   "cell_type": "markdown",
   "metadata": {},
   "source": [
    "## 8.2. INLINE FUNCTIONS: REMOVING THE OVERHEAD OF LAMBDAS\n",
    "\n",
    "Do lambdas present some performance problems?\n",
    "\n",
    "Lambdas are normally compiled to anonymous classes. Which means:\n",
    " - every time you use a lambda expression, an extra class is created (so at least 1 extra allocation)\n",
    " - if it captures some variables, then a new object is created on every invocation (so N extra allocations, where N = number of invocations)\n",
    " \n",
    "[Like in Java, what happens in Kotlin varies in different cases](https://discuss.kotlinlang.org/t/lambdas-and-implicit-references-to-the-instance-of-the-enclosing-class/2288/2):\n",
    "- If the lambda is passed to an inline function and isn’t marked noinline, then the whole thing boils away and no additional classes or objects are created.\n",
    "- If the lambda doesn’t capture, then it’ll be emitted as a singleton class whose instance is reused again and again (one class+one object allocation).\n",
    "- If the lambda captures then a new object is created each time the lambda is used."
   ]
  },
  {
   "cell_type": "markdown",
   "metadata": {},
   "source": [
    "Without `inline`:\n",
    "\n",
    "```kotlin\n",
    "fun higherOrderFunction(aLambda: () -> Unit) {\n",
    "        doSomething()\n",
    "        aLambda()\n",
    "        doAnotherThing()\n",
    "}\n",
    "```\n",
    "\n",
    "```java\n",
    "// if you call this in a loop, you'll create N new function objects\n",
    "public void callingFunction(){ \n",
    "    higherOrderFunction(new Function() {\n",
    "        @Override\n",
    "        public void invoke() {\n",
    "          //aLambda's logic here.  \n",
    "\n",
    "        }\n",
    "    });\n",
    "}\n",
    "```"
   ]
  },
  {
   "cell_type": "markdown",
   "metadata": {},
   "source": [
    "### 8.2.1. How inlining works\n",
    "\n",
    "The body of the lambda expression that is passed as an argument is substituted directly into the resulting code:\n",
    "\n",
    "```kotlin\n",
    "inline fun higherOrderFunction(aLambda: () -> Unit) {\n",
    "    doSomething()\n",
    "    aLambda()\n",
    "    doAnotherThing()\n",
    "}\n",
    "fun callFunction(msg: String) {\n",
    "    higherOrderFunction{ println(msg) }\n",
    "}\n",
    "```\n",
    "\n",
    "```java\n",
    "public void callingFunction(msg) {\n",
    "  doSomething()\n",
    "  // inline lambda code\n",
    "  System.out.println(msg)\n",
    "  doAnotherThing()\n",
    "}\n",
    "```"
   ]
  },
  {
   "cell_type": "code",
   "execution_count": 1,
   "metadata": {},
   "outputs": [
    {
     "name": "stdout",
     "output_type": "stream",
     "text": [
      "=== Before inline sync call == \n",
      "locking...\n",
      "ACTION\n",
      "unlocking...\n",
      "=== After inline sync call == \n",
      "=== compiledFoo: Before inline sync call == \n",
      "locking...\n",
      "compiledFoo: ACTION\n",
      "unlocking...\n",
      "=== compiledFoo: After inline sync call == \n"
     ]
    }
   ],
   "source": [
    "// Inlined example\n",
    "\n",
    "class Lock {\n",
    "    fun lock() = println(\"locking...\")\n",
    "    fun unlock() = println(\"unlocking...\")\n",
    "}\n",
    "\n",
    "// original inlined function\n",
    "inline fun <T> synchronized(lock: Lock, action: () -> T): T {\n",
    "    lock.lock()\n",
    "    try {\n",
    "        return action()\n",
    "    }\n",
    "    finally {\n",
    "        lock.unlock()\n",
    "    }\n",
    "}\n",
    "\n",
    "// now calling it in kotlin\n",
    "fun foo(l: Lock) {\n",
    "    println(\"=== Before inline sync call == \")\n",
    "    \n",
    "    synchronized(l) {\n",
    "        println(\"ACTION\")\n",
    "    }\n",
    "    \n",
    "    println(\"=== After inline sync call == \")\n",
    "}\n",
    "\n",
    "// compiles to this in java\n",
    "fun compiledFoo(l: Lock) {\n",
    "    println(\"=== compiledFoo: Before inline sync call == \")\n",
    "\n",
    "    /* inlined fn */\n",
    "    l.lock()\n",
    "    try {\n",
    "        println(\"compiledFoo: ACTION\")\n",
    "    } finally {\n",
    "        l.unlock()\n",
    "    }\n",
    "    /* end inlined fn */\n",
    "    \n",
    "    println(\"=== compiledFoo: After inline sync call == \")\n",
    "}\n",
    "\n",
    "foo(Lock())\n",
    "compiledFoo(Lock())"
   ]
  },
  {
   "cell_type": "code",
   "execution_count": 3,
   "metadata": {},
   "outputs": [
    {
     "name": "stdout",
     "output_type": "stream",
     "text": [
      "hi i am a lock\n"
     ]
    }
   ],
   "source": [
    "// if the lambda code isn't available at the site where \n",
    "// the inline function is called, it's not inlined\n",
    "\n",
    "class LockOwner(val l: Lock) {\n",
    "    fun runUnderLock(action: () -> Unit) {\n",
    "        synchronized(l, action)\n",
    "    }\n",
    "    \n",
    "    // compiles to this in java\n",
    "    fun compiledRunUnderLock(action: () -> Unit) {\n",
    "        l.lock()\n",
    "        try {\n",
    "            action() // not inlined because there's no lambda\n",
    "        } finally {\n",
    "            l.unlock()\n",
    "        }\n",
    "    }\n",
    "}\n",
    "\n",
    "LockOwner(Lock()).runUnderLock {\n",
    "    println(\"hi i am a lock\")\n",
    "}\n",
    "\n",
    "// If you have two uses of an inline function in different \n",
    "// locations with different lambdas, then every call site will be \n",
    "// inlined independently. \n",
    "// The code of the inline function will be copied to both locations \n",
    "// where you use it, with different lambdas substituted into it."
   ]
  },
  {
   "cell_type": "markdown",
   "metadata": {},
   "source": [
    "### 8.2.2. Restrictions on inline functions\n",
    "\n",
    "Not every function that uses lambdas can be inlined, because the code is substituted directly in the resulting code:\n",
    "- generally ok if it's called directly, or passed as an argument to another inline function\n",
    "- but if the param is stored somewhere for later use, the code of the lambda expression can't be inlined because there must be an object that contains this code\n",
    " - compiler will complain `Illegal usage of inline-parameter.`"
   ]
  },
  {
   "cell_type": "code",
   "execution_count": 16,
   "metadata": {},
   "outputs": [
    {
     "name": "stderr",
     "output_type": "stream",
     "text": [
      "error: illegal usage of inline-parameter 'transform' in 'public final inline fun <T, R> Sequence<T>.map(transform: (T) -> R): Line_16.CustomSequence<T, R> defined in Line_16'. Add 'noinline' modifier to the parameter declaration\n",
      "    return CustomSequence(transform)\n",
      "                          ^\n"
     ]
    }
   ],
   "source": [
    "data class CustomSequence<T, R>(val transform: (T) -> R)\n",
    "\n",
    "inline fun <T, R> Sequence<T>.map(transform: (T) -> R): CustomSequence<T, R> {\n",
    "    // `transform` is stored as a property in TransformingSequence\n",
    "    // so it has to use the standard non-inline representation\n",
    "    // (an anonymous class implementing Function1 interface)\n",
    "    return CustomSequence(transform)\n",
    "}"
   ]
  },
  {
   "cell_type": "markdown",
   "metadata": {},
   "source": [
    "#### Noinline and Crossinline\n",
    "\n",
    "https://android.jlelse.eu/inline-noinline-crossinline-what-do-they-mean-b13f48e113c2\n",
    "\n",
    "Noinline:\n",
    "- used with functions that expect two or more lambdas as arguments, and you want to inline only some of them\n",
    "\n",
    "Crossinline:\n",
    "- used to mark lambdas that mustn’t allow non-local returns, especially when such lambda is passed to another execution context such as a higher order function that is not inlined, a local object or a nested function. In other words, you won’t be able to do a return in such lambdas.\n"
   ]
  },
  {
   "cell_type": "code",
   "execution_count": 2,
   "metadata": {
    "collapsed": true
   },
   "outputs": [],
   "source": [
    "// Noinline\n",
    "inline fun foo(inlined: () -> Unit, noinline notInlined: () -> Unit) {\n",
    "  // ...\n",
    "}"
   ]
  },
  {
   "cell_type": "code",
   "execution_count": 6,
   "metadata": {},
   "outputs": [
    {
     "name": "stdout",
     "output_type": "stream",
     "text": [
      "normalFunction start---\n",
      "lambda passed to higherOrderFunction\n",
      "normalFunction end---\n"
     ]
    }
   ],
   "source": [
    "// Crossinline\n",
    "\n",
    "inline fun higherOrderFunction(crossinline aLambda: () -> Unit) {\n",
    "    normalFunction {\n",
    "        aLambda() //must mark aLambda as crossinline to use in this context.\n",
    "    }\n",
    "}\n",
    "\n",
    "fun normalFunction(aLambda: () -> Unit) {\n",
    "    println(\"normalFunction start---\")\n",
    "    aLambda()\n",
    "    println(\"normalFunction end---\")\n",
    "    return\n",
    "}\n",
    "\n",
    "fun callingFunction() {\n",
    "    higherOrderFunction { \n",
    "        println(\"lambda passed to higherOrderFunction\")\n",
    "        // return  // Error. Can't return from here.\n",
    "    }\n",
    "}\n",
    "\n",
    "callingFunction()"
   ]
  },
  {
   "cell_type": "markdown",
   "metadata": {},
   "source": [
    "Interop:\n",
    "- compiler fully supports inlining functions across modules and functions defined in third-party libraries.\n",
    "- can also call most inline functions from Java (will be compiled as regular function calls)"
   ]
  },
  {
   "cell_type": "markdown",
   "metadata": {},
   "source": [
    "### 8.2.3. Inlining collection operations\n",
    "\n",
    "Most Kotlin collection functions take lambda args. Does that worsen perforance compared to implementing the operations directly?\n",
    "- the standard functions like filter, map etc are `inline` so it should be ok!\n",
    "\n"
   ]
  },
  {
   "cell_type": "markdown",
   "metadata": {},
   "source": [
    "https://github.com/JetBrains/kotlin/blob/master/libraries/stdlib/src/generated/_Collections.kt\n",
    "\n",
    "```kotlin\n",
    "/**\n",
    " * Returns a list containing only elements matching the given [predicate].\n",
    " */\n",
    "inline fun <T> Iterable<T>.filter(predicate: (T) -> Boolean): List<T> {\n",
    "    return filterTo(ArrayList<T>(), predicate)\n",
    "}\n",
    "```\n",
    "```kotlin\n",
    "/**\n",
    " * Returns a list containing the results of applying the given [transform] function\n",
    " * to each element in the original collection.\n",
    " */\n",
    "inline fun <T, R> Iterable<T>.map(transform: (T) -> R): List<R> {\n",
    "    return mapTo(ArrayList<R>(collectionSizeOrDefault(10)), transform)\n",
    "}\n",
    "```\n",
    "```kotlin\n",
    "/**\n",
    " * Returns the first element matching the given [predicate], or `null` if no such element was found.\n",
    " */\n",
    "@kotlin.internal.InlineOnly\n",
    "inline fun <T> Iterable<T>.find(predicate: (T) -> Boolean): T? {\n",
    "    return firstOrNull(predicate)\n",
    "}\n",
    "```"
   ]
  },
  {
   "cell_type": "code",
   "execution_count": 10,
   "metadata": {},
   "outputs": [
    {
     "name": "stdout",
     "output_type": "stream",
     "text": [
      "got: 10\n",
      "got: 12\n",
      "got: 4\n",
      "BEFORE\n",
      "[10, 12, 4]\n"
     ]
    }
   ],
   "source": [
    "// But what if you have both `filter` and `map`?\n",
    "\n",
    "// regular lists calculate eagerly\n",
    "val list = listOf(10, 12, 31, 1, 4)\n",
    "        .filter { it % 2 == 0 } \n",
    "        // creates intermediate collection [10, 12, 4] ...\n",
    "        .map { println(\"got: $it\"); it }\n",
    "       \n",
    "println(\"BEFORE\")\n",
    "println(list)"
   ]
  },
  {
   "cell_type": "code",
   "execution_count": 19,
   "metadata": {},
   "outputs": [
    {
     "name": "stdout",
     "output_type": "stream",
     "text": [
      "BEFORE\n",
      "kotlin.sequences.TransformingSequence@437674c\n",
      "got: 10\n",
      "got: 12\n",
      "got: 4\n",
      "10, 12, 4\n",
      "kotlin.sequences.TransformingSequence@60f1d1cb\n"
     ]
    }
   ],
   "source": [
    "// If the number of elements is large you can use a sequence instead\n",
    "// by adding an `asSequence` call to the chain:\n",
    "\n",
    "// Note that WHERE you place the `asSequence` matters!\n",
    "val sequence = listOf(10, 12, 31, 1, 4)\n",
    "        .asSequence() // to run lazily\n",
    "        .filter { it % 2 == 0 } \n",
    "        .map { println(\"got: $it\"); it }\n",
    "       // .asSequence() // putting it here doesn't work\n",
    "        \n",
    "\n",
    "println(\"BEFORE\")\n",
    "println(sequence)\n",
    "\n",
    "// Only runs when you call a terminal operation on it\n",
    "println(sequence.joinToString())\n",
    "\n",
    "// `map` returns another Sequence\n",
    "println(sequence.map { \"mapped\" })"
   ]
  },
  {
   "cell_type": "markdown",
   "metadata": {},
   "source": [
    "#### Why not sequence all the things?\n",
    "\n",
    "Operations on sequences are lazy, BUT lambdas used to process a sequence aren’t inlined.\n",
    "Each intermediate sequence is represented as an object storing a lambda in its field, and the terminal operation causes a chain of calls through each intermediate sequence to be performed.\n",
    "\n",
    "[SO: \"Kotlin's Iterable and Sequence look exactly same. Why are two types required?\"](https://stackoverflow.com/questions/35629159/kotlins-iterable-and-sequence-look-exactly-same-why-are-two-types-required):\n",
    "\n",
    "> \"Lazy is usually less performant for smaller and more commonly used collections. A copy can be faster than a lazy eval if taking advantage of CPU cache etc.\"\n",
    "\n",
    "> \"A common pitfall with lazy evaluation is capturing the context and storing resulting lazy computation in a field along with all the captured locals and whatever they hold. Hence, hard to debug memory leaks.\"\n"
   ]
  },
  {
   "cell_type": "markdown",
   "metadata": {},
   "source": [
    "### 8.2.4. Deciding when to declare functions as inline\n",
    "\n",
    "Why not `inline` all the things?\n",
    "\n",
    "Not a great idea - only likely useful with functions that take lambdas as arguments.\n",
    "\n",
    "For regular function calls, the JVM already does a lot of inliing for you when translating bytecode -> machine code. In bytecode, the implementation of each function is repeated only once and doesn’t need to be copied to every place where the function is called, like with Kotlin’s `inline`, and the stacktrace is clearer if the function is called directly.\n",
    "\n",
    "Why inline functions with lambda args?\n",
    "* you avoid overhead - you save not only on the call, but also on the creation of the extra class for each lambda and an object for the lambda instance. \n",
    "* JVM isn’t smart enough to always perform inlining through the call and the lambda\n",
    "* inlining lets you use features that are impossible to make work with regular lambdas, such as non-local returns\n",
    "\n",
    "Even so, still some issues:\n",
    "- Watch out for the code size:\n",
    " - If the function you want to inline is large, copying its bytecode into every call site could be expensive in terms of bytecode size. In that case, you should try to extract the code not related to the lambda arguments into a separate non-inline function.\n",
    "- [With inline functions, you will not be able to access private members/methods of your enclosing class.](https://android.jlelse.eu/inline-noinline-crossinline-what-do-they-mean-b13f48e113c2)\n",
    "    - Need to make those members/methods `internal` and then annotate them with @PublishedApi.\n"
   ]
  },
  {
   "cell_type": "markdown",
   "metadata": {},
   "source": [
    "### 8.2.5. Using inlined lambdas for resource management\n",
    "\n",
    "#### Resource Management\n",
    "\n",
    "- acquiring a resource before an operation and releasing it afterwards\n",
    "- resource = a file, a lock, a database transaction, etc\n",
    "- replacement for `try/finally`\n"
   ]
  },
  {
   "cell_type": "code",
   "execution_count": 12,
   "metadata": {},
   "outputs": [
    {
     "name": "stdout",
     "output_type": "stream",
     "text": [
      "=== trying action ===\n",
      "printing: my resource\n",
      "=== closed! ===\n"
     ]
    }
   ],
   "source": [
    "// EX: The use function - an inline extension function called on \n",
    "// a closable resource. Receives a lambda as an argument and automatically\n",
    "// closes the resource after running the lambda.\n",
    "\n",
    "interface Closeable {\n",
    "    fun close() = println(\"=== closed! ===\")\n",
    "}\n",
    "\n",
    "data class SomeCloseableResource(val name: String = \"my resource\") \n",
    ": Closeable\n",
    "\n",
    "inline fun <T: Closeable> T.use(action: (T) -> Any?) {\n",
    "    try {\n",
    "        println(\"=== trying action ===\")\n",
    "        action(this) // any action like I/O, buffered reader etc\n",
    "    } finally {\n",
    "        this.close()\n",
    "    }\n",
    "}\n",
    "\n",
    "// Use it!\n",
    "SomeCloseableResource().use { res -> println(\"printing: ${res.name}\") }"
   ]
  },
  {
   "cell_type": "markdown",
   "metadata": {},
   "source": [
    "## 8.3 CONTROL FLOW IN HIGHER-ORDER FUNCTIONS\n",
    "\n",
    "**RULE: `return` returns from the closest function declared using the fun keyword.**\n",
    "\n",
    "How does `return` work inside lambdas?\n",
    "- lambdas don't use the `fun` keyword, so by default they return from the outer function!\n",
    "- applicable only to `inline` lambdas, `non-inline` lambdas can't have `returns` in them\n",
    " - Why? Because they can save the lambda passed to it in a variable and execute it later when the function has already returned.\n",
    " \n",
    " \n",
    "### 8.3.2. Returning from lambdas: return with a label\n",
    "\n",
    "You can write a local return from a lambda expression as well:\n",
    "- equivalent to `break` in a loop\n",
    "- use `labels` after the `return`:\n",
    " - can be explicit label with custom name, or juse use the name of the function that takes this lambda (ex: `return@forEach`, `return@map`)\n",
    " - note you can't combine these (explicit `label` + label using function name), since lambdas can't have more than one label\n"
   ]
  },
  {
   "cell_type": "code",
   "execution_count": 1,
   "metadata": {},
   "outputs": [
    {
     "name": "stdout",
     "output_type": "stream",
     "text": [
      "found: 14\n"
     ]
    }
   ],
   "source": [
    "// Labels are useful inside lambdas!\n",
    "\n",
    "// Usually, lambdas return out of the enclosing function...\n",
    "fun lookForFirstEven(nums: List<Int>) {\n",
    "    nums.forEach{\n",
    "        if (it % 2 == 0) {\n",
    "            println(\"found: $it\")\n",
    "            return // will return out of `lookForFirstEven`\n",
    "        }\n",
    "    }\n",
    "    println(\"couldn't find an even num\") // this is always printed now\n",
    "}\n",
    "\n",
    "val list = listOf(3, 5, 11, 14, 2, 0)\n",
    "lookForFirstEven(list)"
   ]
  },
  {
   "cell_type": "code",
   "execution_count": 3,
   "metadata": {},
   "outputs": [
    {
     "name": "stdout",
     "output_type": "stream",
     "text": [
      "found: 14\n",
      "found: 2\n",
      "found: 0\n",
      "maybe had even num?\n"
     ]
    }
   ],
   "source": [
    "// But you can return at a label\n",
    "fun lookForFirstEvenLocal(nums: List<Int>) {\n",
    "    nums.forEach mylabel@{\n",
    "        if (it % 2 == 0) {\n",
    "            println(\"found: $it\")\n",
    "            return@mylabel // OR just return@forEach\n",
    "        }\n",
    "    }\n",
    "    println(\"maybe had even num?\") // this is always printed now\n",
    "}\n",
    "\n",
    "val list = listOf(3, 5, 11, 14, 2, 0)\n",
    "lookForFirstEvenLocal(list)"
   ]
  },
  {
   "cell_type": "code",
   "execution_count": 7,
   "metadata": {},
   "outputs": [
    {
     "name": "stdout",
     "output_type": "stream",
     "text": [
      "[1, 2, 3]\n",
      "[1, 2, 3]\n"
     ]
    }
   ],
   "source": [
    "// Labeled \"this\" expressions\n",
    "\n",
    "// Lambdas with receivers contain an implicit `context` that can be \n",
    "// accessed via a `this` reference in a lambda\n",
    "\n",
    "println(StringBuilder().apply sb@{ // label the lambda `sb`\n",
    "    listOf(1, 2, 3).apply {\n",
    "        // `this@sb` is the outer `apply`\n",
    "        // `this` is the closest implicit receiver (the local `apply`)\n",
    "        this@sb.append(this.toString()) \n",
    "    }\n",
    "})\n",
    "\n",
    "println(StringBuilder().apply { // label the lambda `sb`\n",
    "    listOf(1, 2, 3).run { // have to switch to `run` to use names\n",
    "        this@apply.append(this.toString()) \n",
    "    }\n",
    "})"
   ]
  },
  {
   "cell_type": "markdown",
   "metadata": {},
   "source": [
    "### 8.3.3. Anonymous functions: local returns by default\n",
    "\n",
    "*An alternative way to labeled returns to return locally.*\n",
    "\n",
    "Remember the rule: `return` returns from the closest function declared using the fun keyword.\n",
    "- Because anonymous functions use `fun`, `return` returns from the anonymous function, not the enclosing one.\n",
    "\n",
    "Note anonymous functions are just another syntactic form of lambdas. They are NOT regular function declarations.\n"
   ]
  },
  {
   "cell_type": "code",
   "execution_count": 3,
   "metadata": {},
   "outputs": [
    {
     "name": "stdout",
     "output_type": "stream",
     "text": [
      "found: 14\n",
      "found: 2\n",
      "found: 0\n",
      "maybe had an even num?\n",
      "[14, 2, 0]\n",
      "[14, 2, 0]\n"
     ]
    }
   ],
   "source": [
    "// Anonymous functions return locally by default\n",
    "fun lookForFirstEvenAnonymous(nums: List<Int>) {\n",
    "    nums.forEach(fun (num) {\n",
    "        if (num % 2 == 0) {\n",
    "            println(\"found: $num\")\n",
    "            return\n",
    "        }\n",
    "    })\n",
    "    println(\"maybe had an even num?\") // this is always printed now\n",
    "} \n",
    "\n",
    "val list = listOf(3, 5, 11, 14, 2, 0)\n",
    "lookForFirstEvenAnonymous(list)\n",
    "\n",
    "// Anonymous functions have same rules as regular functions \n",
    "// for specifying return type\n",
    "\n",
    "// Block bodies require explicit return types\n",
    "println(list.filter(fun (num): Boolean {\n",
    "    return num % 2 == 0\n",
    "}))\n",
    "\n",
    "// Expression bodies can omit the return type\n",
    "println(list.filter(fun (num) = num % 2 == 0))\n"
   ]
  },
  {
   "cell_type": "markdown",
   "metadata": {
    "collapsed": true
   },
   "source": [
    "### Reading\n",
    "\n",
    "https://android.jlelse.eu/inline-noinline-crossinline-what-do-they-mean-b13f48e113c2\n",
    "\n"
   ]
  }
 ],
 "metadata": {
  "kernelspec": {
   "display_name": "Kotlin",
   "language": "kotlin",
   "name": "kotlin"
  },
  "language_info": {
   "file_extension": "kt",
   "name": "kotlin"
  }
 },
 "nbformat": 4,
 "nbformat_minor": 2
}
